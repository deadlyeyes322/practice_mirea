{
 "cells": [
  {
   "cell_type": "code",
   "execution_count": 1,
   "metadata": {
    "colab": {
     "base_uri": "https://localhost:8080/"
    },
    "id": "EaVUZO6gzade",
    "outputId": "9898ffda-f8e6-4bc1-8ec6-079a88503a8b"
   },
   "outputs": [
    {
     "name": "stdout",
     "output_type": "stream",
     "text": [
      "’ҐЄгй п Є®¤®ў п бва ­Ёж : 1251\n"
     ]
    },
    {
     "name": "stderr",
     "output_type": "stream",
     "text": [
      "Cloning into 'practice_mirea'...\n"
     ]
    }
   ],
   "source": [
    "!git clone https://github.com/deadlyeyes322/practice_mirea.git"
   ]
  },
  {
   "cell_type": "code",
   "execution_count": 2,
   "metadata": {
    "colab": {
     "base_uri": "https://localhost:8080/"
    },
    "id": "DQyhDcfAnGjC",
    "outputId": "43eb9d45-eea5-41c8-a2b4-0f2a3d2f078d"
   },
   "outputs": [
    {
     "name": "stdout",
     "output_type": "stream",
     "text": [
      "C:\\Users\\Professional\\Desktop\\проекты\\parser\\practice_mirea\n",
      "’ҐЄгй п Є®¤®ў п бва ­Ёж : 1251\n",
      "Already up to date.\n"
     ]
    }
   ],
   "source": [
    "%cd practice_mirea/\n",
    "!git pull"
   ]
  },
  {
   "cell_type": "code",
   "execution_count": 9,
   "metadata": {
    "id": "DeSovwcGyPx2"
   },
   "outputs": [],
   "source": [
    "import numpy as np\n",
    "import pandas as pd\n",
    "import matplotlib.pyplot as plt\n",
    "import seaborn as sns\n",
    "import os "
   ]
  },
  {
   "cell_type": "code",
   "execution_count": 11,
   "metadata": {
    "id": "QgnYHFN5zZBY"
   },
   "outputs": [
    {
     "name": "stdout",
     "output_type": "stream",
     "text": [
      "C:\\Users\\Professional\\Desktop\\проекты\\parser\\practice_mirea\n"
     ]
    }
   ],
   "source": [
    "#df = pd.read_csv('/content/practice_mirea/data_pars/DataScienceData.csv')\n",
    "print(os.getcwd())"
   ]
  },
  {
   "cell_type": "markdown",
   "metadata": {
    "id": "MN2qqoBRhOdH"
   },
   "source": [
    "Загрузим данные о собранных нами ранее вакансиях. <p>\n",
    "Рассмотрим частоту требований навыков в вакансиях"
   ]
  },
  {
   "cell_type": "code",
   "execution_count": null,
   "metadata": {
    "colab": {
     "base_uri": "https://localhost:8080/",
     "height": 293
    },
    "id": "3LD6ftDqycqv",
    "outputId": "6a4dbaea-ece4-4479-ac79-9165d73bd98e"
   },
   "outputs": [],
   "source": [
    "df.head()"
   ]
  },
  {
   "cell_type": "code",
   "execution_count": null,
   "metadata": {
    "colab": {
     "base_uri": "https://localhost:8080/",
     "height": 642
    },
    "id": "0OG4oykV4mAh",
    "outputId": "13910fff-2aa5-482b-f356-243a2f0ac947"
   },
   "outputs": [],
   "source": [
    "skills = df.iloc[:, 6:].applymap(lambda x: 1 if str(x).strip() in ['PYTHON', 'SQL', '1'] else 0)\n",
    "\n",
    "skills_sum = skills.sum().sort_values(ascending=False)\n",
    "\n",
    "plt.figure(figsize=(12, 6))\n",
    "sns.set_style(\"whitegrid\")\n",
    "\n",
    "ax = sns.barplot(\n",
    "    x=skills_sum.values,\n",
    "    y=skills_sum.index,\n",
    "    hue=skills_sum.index,\n",
    "    palette=\"viridis\",\n",
    "    legend=False\n",
    ")\n",
    "\n",
    "for i, v in enumerate(skills_sum.values):\n",
    "    ax.text(v + 0.2, i, str(int(v)), color='black', ha='left')\n",
    "\n",
    "plt.title('Частота требований навыков в вакансиях', fontsize=14)\n",
    "plt.xlabel('Количество упоминаний', fontsize=12)\n",
    "plt.ylabel('Навыки', fontsize=12)\n",
    "plt.tight_layout()\n",
    "\n",
    "plt.show()"
   ]
  },
  {
   "cell_type": "code",
   "execution_count": null,
   "metadata": {
    "colab": {
     "base_uri": "https://localhost:8080/"
    },
    "id": "5PX8qtB58PV5",
    "outputId": "60e84b47-ecf5-4d0a-9544-8e0b35dbd24c"
   },
   "outputs": [],
   "source": [
    "df.info()"
   ]
  },
  {
   "cell_type": "markdown",
   "metadata": {
    "id": "LnhtLXP_hijY"
   },
   "source": [
    "Преобразуем все категориальные признаки к численному формату данных, чтобы нам было удобнее с ними работать."
   ]
  },
  {
   "cell_type": "code",
   "execution_count": null,
   "metadata": {
    "id": "GBoJ5v35-Bc3"
   },
   "outputs": [],
   "source": [
    "experience_mapping = {\n",
    "    'Нет опыта': 0,\n",
    "    'От 1 года до 3 лет': 2,  # среднее между 1 и 3\n",
    "    'От 3 до 6 лет': 4.5,     # среднее между 3 и 6\n",
    "    'Более 6 лет': 7           # можно задать условное значение\n",
    "}\n",
    "\n",
    "df['exp_in_num'] = df['Опыт'].map(experience_mapping)"
   ]
  },
  {
   "cell_type": "code",
   "execution_count": null,
   "metadata": {
    "colab": {
     "base_uri": "https://localhost:8080/",
     "height": 300
    },
    "id": "cfSIAhBM_l0u",
    "outputId": "64d45365-2064-49d3-8f1f-fe8060717cc8"
   },
   "outputs": [],
   "source": [
    "df.describe()"
   ]
  },
  {
   "cell_type": "code",
   "execution_count": null,
   "metadata": {
    "id": "aXoXWPrhAPbQ"
   },
   "outputs": [],
   "source": [
    "from sklearn.preprocessing import LabelEncoder\n",
    "\n",
    "le = LabelEncoder()\n",
    "df['Удаленная работа (код)'] = le.fit_transform(df['Удаленная работа'])"
   ]
  },
  {
   "cell_type": "code",
   "execution_count": null,
   "metadata": {
    "colab": {
     "base_uri": "https://localhost:8080/"
    },
    "id": "Ep9J1AoKqAJU",
    "outputId": "2713be62-272c-4340-a613-fc485632fd42"
   },
   "outputs": [],
   "source": [
    "print(df.iloc[:, 3].dtype)"
   ]
  },
  {
   "cell_type": "code",
   "execution_count": null,
   "metadata": {
    "id": "_qeTCfOtBzkW"
   },
   "outputs": [],
   "source": [
    "for i in range(len(df)):\n",
    "  if df.iloc[i, 3] == 'не указана':\n",
    "    df.iloc[i, 3] = np.nan\n",
    "    continue\n",
    "\n",
    "  text = str(df.iloc[i, 3]).split()\n",
    "  if len(text) == 5:\n",
    "    df.iloc[i, 3] = float((int(text[1]) + int(text[3])) // 2)\n",
    "  if len(text) == 3:\n",
    "    df.iloc[i, 3] = float(int(text[1]))\n",
    "  if text[-1] == 'USD' or text[-1] == 'EUR':\n",
    "    df.iloc[i, 3] = float(df.iloc[i, 3] * 93)\n",
    "df['Зарплата'] = pd.to_numeric(df['Зарплата'], errors='coerce').astype('Int64')"
   ]
  },
  {
   "cell_type": "code",
   "execution_count": null,
   "metadata": {
    "colab": {
     "base_uri": "https://localhost:8080/",
     "height": 632
    },
    "id": "VX9KAeQdD0Nb",
    "outputId": "8bfe337c-0b69-49fd-9b12-9977551e83d8"
   },
   "outputs": [],
   "source": [
    "df"
   ]
  },
  {
   "cell_type": "markdown",
   "metadata": {
    "id": "tqlgAl4-rAOB"
   },
   "source": [
    "Так как в столбце зарплата огромное количество пропусков попытаемся заполнить их предсказанными значениями. Для этого обучим две модели (KNN, RandomForest) и воспользуемся лучшей моделью для заполнения неизвестных значений"
   ]
  },
  {
   "cell_type": "code",
   "execution_count": null,
   "metadata": {
    "id": "ACtgU_kSFLxi"
   },
   "outputs": [],
   "source": [
    "from sklearn.neighbors import KNeighborsRegressor\n",
    "from sklearn.model_selection import train_test_split\n",
    "from sklearn.model_selection import GridSearchCV"
   ]
  },
  {
   "cell_type": "code",
   "execution_count": null,
   "metadata": {
    "colab": {
     "base_uri": "https://localhost:8080/"
    },
    "id": "ADo2lax_mn_1",
    "outputId": "17877d54-0d5a-42bd-e531-4544706ed85e"
   },
   "outputs": [],
   "source": [
    "not_null_salaries = df.iloc[df['Зарплата'].notna().values]\n",
    "\n",
    "X_train, X_test, y_train, y_test = train_test_split(\n",
    "    not_null_salaries.iloc[:, 6::],\n",
    "    not_null_salaries.iloc[:, 3],\n",
    "    test_size=0.15,\n",
    "    random_state=10\n",
    ")\n",
    "X_train.shape, X_test.shape"
   ]
  },
  {
   "cell_type": "code",
   "execution_count": null,
   "metadata": {
    "colab": {
     "base_uri": "https://localhost:8080/"
    },
    "id": "3BuQtFSoHRAa",
    "outputId": "19f7b6e2-c51b-431e-ebc1-19d0af6f6a2b"
   },
   "outputs": [],
   "source": [
    "params = {'n_neighbors': [2, 3, 4, 5], 'metric': ['euclidean', 'manhattan', 'minkowski']}\n",
    "knn = KNeighborsRegressor()\n",
    "model = GridSearchCV(knn, params)\n",
    "\n",
    "model.fit(X_train, y_train)\n",
    "print(model.best_score_, model.best_params_)"
   ]
  },
  {
   "cell_type": "code",
   "execution_count": null,
   "metadata": {
    "colab": {
     "base_uri": "https://localhost:8080/"
    },
    "id": "C0C8HgRHImHE",
    "outputId": "d1c0e6a6-e65e-41ca-a6af-7052f7064b9f"
   },
   "outputs": [],
   "source": [
    "knn = KNeighborsRegressor(n_neighbors=5, metric='euclidean')\n",
    "knn.fit(X_train, y_train)\n",
    "knn.score(X_test, y_test)"
   ]
  },
  {
   "cell_type": "code",
   "execution_count": null,
   "metadata": {
    "colab": {
     "base_uri": "https://localhost:8080/",
     "height": 694
    },
    "id": "RIVcIB1YI2_i",
    "outputId": "e4c02a2e-1f97-4256-bdb2-6b1c6927d241"
   },
   "outputs": [],
   "source": [
    "from sklearn.metrics import mean_absolute_error\n",
    "\n",
    "y_pred = knn.predict(X_test)\n",
    "df_pred_real = pd.DataFrame({'predict': y_pred, 'real': y_test})\n",
    "print(mean_absolute_error(y_pred, y_test))\n",
    "df_pred_real"
   ]
  },
  {
   "cell_type": "code",
   "execution_count": null,
   "metadata": {
    "colab": {
     "base_uri": "https://localhost:8080/"
    },
    "id": "W1zfwjI6KZic",
    "outputId": "7e1c4273-5110-42b2-cb22-60395c0c3bc5"
   },
   "outputs": [],
   "source": [
    "from sklearn.tree import DecisionTreeRegressor\n",
    "\n",
    "params = {'criterion': ['squared_error', 'absolute_error'],\n",
    "          'max_depth': [None, 3, 5, 7, 10],\n",
    "          'min_samples_split': [2, 5, 10, 15],\n",
    "          'min_samples_leaf': [1, 2, 4, 6], }\n",
    "\n",
    "tree = DecisionTreeRegressor(random_state=10)\n",
    "model = GridSearchCV(tree, params)\n",
    "model.fit(X_train, y_train)\n",
    "print(model.best_score_, model.best_params_)"
   ]
  },
  {
   "cell_type": "code",
   "execution_count": null,
   "metadata": {
    "colab": {
     "base_uri": "https://localhost:8080/"
    },
    "id": "eI2tnU63MWaN",
    "outputId": "6fba3604-0c2e-44ac-ca47-c6d417b41c6e"
   },
   "outputs": [],
   "source": [
    "clf = DecisionTreeRegressor(random_state=10, criterion='absolute_error', min_samples_leaf=6, min_samples_split=15)\n",
    "clf.fit(X_train, y_train)\n",
    "clf.score(X_test, y_test)"
   ]
  },
  {
   "cell_type": "code",
   "execution_count": null,
   "metadata": {
    "colab": {
     "base_uri": "https://localhost:8080/",
     "height": 694
    },
    "id": "W6HG7GDTM3pJ",
    "outputId": "0e3cad68-7f9c-4ac9-9bc0-26fa2bc543f7"
   },
   "outputs": [],
   "source": [
    "y_pred = clf.predict(X_test)\n",
    "df_pred_real = pd.DataFrame({'predict': y_pred, 'real': y_test})\n",
    "print(mean_absolute_error(y_pred, y_test))\n",
    "df_pred_real"
   ]
  },
  {
   "cell_type": "markdown",
   "metadata": {
    "id": "HH0541jxNnzQ"
   },
   "source": [
    "## KNN показало себя лучше всего, предскажем пустые ячейки зарплаты с помощью этой модели"
   ]
  },
  {
   "cell_type": "code",
   "execution_count": null,
   "metadata": {
    "colab": {
     "base_uri": "https://localhost:8080/"
    },
    "id": "TnHtuxysNjwl",
    "outputId": "37752103-8d2f-401a-cbc1-be6f24e6b028"
   },
   "outputs": [],
   "source": [
    "for i in range(len(df)):\n",
    "  if pd.isna(df.iloc[i, 3]):\n",
    "    features = df.iloc[i, 6:].values.reshape(1, -1)\n",
    "    df.iloc[i, 3] = clf.predict(features)[0]"
   ]
  },
  {
   "cell_type": "code",
   "execution_count": null,
   "metadata": {
    "colab": {
     "base_uri": "https://localhost:8080/",
     "height": 569
    },
    "id": "x-QUkyMkOsKP",
    "outputId": "cb0b85bf-92f5-48af-90bf-52427870da84"
   },
   "outputs": [],
   "source": [
    "plt.boxplot(df[['Зарплата']])"
   ]
  },
  {
   "cell_type": "code",
   "execution_count": null,
   "metadata": {
    "colab": {
     "base_uri": "https://localhost:8080/",
     "height": 499
    },
    "id": "MHi5Oa5RQ4ps",
    "outputId": "95096309-89df-4710-d44e-7b441fc93ad1"
   },
   "outputs": [],
   "source": [
    "plt.hist(df[['Зарплата']])"
   ]
  },
  {
   "cell_type": "code",
   "execution_count": null,
   "metadata": {
    "colab": {
     "base_uri": "https://localhost:8080/"
    },
    "id": "4uN6AhCnRM5z",
    "outputId": "761f1789-7222-47dc-eda4-e7592cf1c70f"
   },
   "outputs": [],
   "source": [
    "print(df[['Зарплата']].median(), df[['Зарплата']].mean(), sep='\\n')"
   ]
  },
  {
   "cell_type": "code",
   "execution_count": null,
   "metadata": {
    "colab": {
     "base_uri": "https://localhost:8080/",
     "height": 615
    },
    "id": "e3DU5tTVRVIH",
    "outputId": "02223327-d67c-4793-de4c-55aebd47ff10"
   },
   "outputs": [],
   "source": [
    "corr_df = df[['Зарплата', 'PYTHON', 'SQL', 'DOCKER', 'GO',\t'LINUX', 'GIT',\t'AWS', 'KUBERNETES', 'DJANGO', 'FLASK',\t'MATH',\t'DATA_SCIENCE_LIB',\t'exp_in_num',\t'Удаленная работа (код)']].corr().abs()\n",
    "\n",
    "sns.heatmap(corr_df,\n",
    "            xticklabels=corr_df.columns.values,\n",
    "            yticklabels=corr_df.columns.values)"
   ]
  },
  {
   "cell_type": "markdown",
   "metadata": {
    "id": "W4ObQVlYsfSS"
   },
   "source": [
    "В матрице корреляций можно заметить, что зарплата лучшего всего коррелирует с опытом работы (значение почти 1), с остальными значение около 0.1-0.3 (лучше всего с PYTHON)\n",
    "Также из этой матрицы можно заметить, что Python хорошо коррелирует с библиотеками для машинного обучения, что и логично, так как они и написаны на этом языке"
   ]
  },
  {
   "cell_type": "code",
   "execution_count": null,
   "metadata": {
    "colab": {
     "base_uri": "https://localhost:8080/",
     "height": 363
    },
    "id": "UmjKo9riulgb",
    "outputId": "904a22f0-4384-45ac-9318-113c4a5ef2b5"
   },
   "outputs": [],
   "source": [
    "df_students = pd.read_csv('/content/practice_mirea/analyst_data_analys/students_data.csv', encoding='windows-1251')\n",
    "df_students"
   ]
  },
  {
   "cell_type": "code",
   "execution_count": null,
   "metadata": {
    "colab": {
     "base_uri": "https://localhost:8080/",
     "height": 842
    },
    "id": "xF1jnLuMzAHA",
    "outputId": "f49e2acf-fbd1-4461-bee6-38d2c90ecfc4"
   },
   "outputs": [],
   "source": [
    "skills = df_students.iloc[:, 1:].applymap(lambda x: 1 if str(x).strip() in ['PYTHON', 'SQL', '1'] else 0)\n",
    "\n",
    "skills_sum = skills.sum().sort_values(ascending=False)\n",
    "\n",
    "non_zero_skills = skills_sum[skills_sum > 0]\n",
    "labels = non_zero_skills.index\n",
    "sizes = non_zero_skills.values\n",
    "\n",
    "colors = plt.cm.tab20c(np.arange(len(labels)) % 20)\n",
    "\n",
    "fig, ax = plt.subplots(figsize=(12, 8))\n",
    "wedges, texts, autotexts = ax.pie(\n",
    "    sizes,\n",
    "    labels=None,\n",
    "    autopct=lambda p: f'{p:.1f}%' if p >= 5 else '',\n",
    "    startangle=90,\n",
    "    colors=colors,\n",
    "    pctdistance=0.85,\n",
    "    wedgeprops={'linewidth': 1, 'edgecolor': 'white'},\n",
    "    textprops={'fontsize': 10}\n",
    ")\n",
    "\n",
    "# Добавляем легенду со всеми навыками и процентами\n",
    "legend_labels = [f\"{label} ({size}, {pct:.1f}%)\"\n",
    "                for label, size, pct in zip(labels, sizes, sizes/sizes.sum()*100)]\n",
    "ax.legend(\n",
    "    wedges,\n",
    "    legend_labels,\n",
    "    title=\"Навыки\",\n",
    "    loc=\"center left\",\n",
    "    bbox_to_anchor=(1, 0, 0.5, 1),\n",
    "    fontsize=10\n",
    ")\n",
    "\n",
    "# Равный аспект, чтобы круг был кругом\n",
    "ax.axis('equal')\n",
    "plt.title('Распределение требований по навыкам', fontsize=14, pad=20)\n",
    "plt.tight_layout()\n",
    "plt.show()"
   ]
  },
  {
   "cell_type": "markdown",
   "metadata": {
    "id": "8yMXtyNQ0yWy"
   },
   "source": [
    "Из диаграммы видно, что на данный момент python изучается в большинстве популярных вузов, также на 3 месте находятся математические дисциплины, хотя их влияния из анализа выше не такое сильное"
   ]
  },
  {
   "cell_type": "markdown",
   "metadata": {
    "id": "9TE2Mwsss8ke"
   },
   "source": [
    "# Модель для прогноза зарплаты студентов, различных вузов"
   ]
  },
  {
   "cell_type": "markdown",
   "metadata": {
    "id": "L2JfxXottIy_"
   },
   "source": [
    "На основе имеющихся данных обучим несколько моделей, для подбора гиперпараметров воспользуемся GridSearch"
   ]
  },
  {
   "cell_type": "code",
   "execution_count": null,
   "metadata": {
    "colab": {
     "base_uri": "https://localhost:8080/"
    },
    "id": "9otWSWl8tIAL",
    "outputId": "4eb1cf98-e776-4728-c7fb-ad1b008663f0"
   },
   "outputs": [],
   "source": [
    "X_train, X_test, y_train, y_test = train_test_split(\n",
    "    df.iloc[:, 6:],\n",
    "    df.iloc[:, 3],\n",
    "    test_size=0.2,\n",
    "    random_state=30\n",
    ")\n",
    "X_train.shape, X_test.shape"
   ]
  },
  {
   "cell_type": "code",
   "execution_count": null,
   "metadata": {
    "id": "3V64QZ7A1S5C"
   },
   "outputs": [],
   "source": [
    "from sklearn.ensemble import GradientBoostingRegressor, RandomForestRegressor\n",
    "from sklearn.linear_model import LinearRegression\n",
    "from sklearn.svm import SVR\n",
    "from sklearn.neighbors import KNeighborsRegressor\n",
    "from sklearn.neural_network import MLPRegressor"
   ]
  },
  {
   "cell_type": "markdown",
   "metadata": {
    "id": "iJkkg4XY2Uic"
   },
   "source": [
    "Для данной задачи будем пользоваться метрикой MAE, так как зарплата имеет большие значения и квадрат расстояния будет слишком сильно завышаться"
   ]
  },
  {
   "cell_type": "code",
   "execution_count": null,
   "metadata": {
    "id": "vvlISkUL3Lyy"
   },
   "outputs": [],
   "source": [
    "gb_params = {\n",
    "    'n_estimators': [50, 100],\n",
    "    'learning_rate': [0.05, 0.1],\n",
    "    'max_depth': [3, 5],\n",
    "    'min_samples_split': [2, 5]\n",
    "}\n",
    "\n",
    "rf_params = {\n",
    "    'n_estimators': [50, 100],\n",
    "    'max_depth': [None, 5, 10],\n",
    "    'min_samples_split': [2, 5],\n",
    "    'max_features': ['sqrt', 0.5]\n",
    "}\n",
    "\n",
    "lr_params = {\n",
    "    'fit_intercept': [True, False],\n",
    "    'positive': [True, False]  # Только для sklearn >= 1.0\n",
    "}\n",
    "\n",
    "svr_params = {\n",
    "    'C': [0.1, 1, 10],\n",
    "    'kernel': ['linear', 'rbf'],\n",
    "    'epsilon': [0.01, 0.1]\n",
    "}\n",
    "\n",
    "knn_params = {\n",
    "    'n_neighbors': [3, 5, 7],\n",
    "    'weights': ['uniform', 'distance'],\n",
    "    'p': [1, 2]  # 1 - манхэттенское, 2 - евклидово расстояние\n",
    "}\n",
    "\n",
    "mlp_params = {\n",
    "    'hidden_layer_sizes': [(50,), (100,)],\n",
    "    'activation': ['relu', 'tanh'],\n",
    "    'alpha': [0.0001, 0.001],\n",
    "    'learning_rate_init': [0.001, 0.01]\n",
    "}\n",
    "\n",
    "all_params = {\n",
    "    'GradientBoostingRegressor': (GradientBoostingRegressor(), gb_params),\n",
    "    'RandomForestRegressor': (RandomForestRegressor(), rf_params),\n",
    "    'LinearRegression': (LinearRegression(), lr_params),\n",
    "    'SVR': (SVR(), svr_params),\n",
    "    'KNeighborsRegressor': (KNeighborsRegressor(), knn_params),\n",
    "    'MLPRegressor': (MLPRegressor(max_iter=1000), mlp_params)\n",
    "}"
   ]
  },
  {
   "cell_type": "code",
   "execution_count": null,
   "metadata": {
    "colab": {
     "base_uri": "https://localhost:8080/",
     "height": 431
    },
    "id": "bHvMzzOr2csH",
    "outputId": "855d33b8-b98a-44d3-e68d-f5c10406399a"
   },
   "outputs": [],
   "source": [
    "from sklearn.model_selection import RandomizedSearchCV\n",
    "\n",
    "results = []\n",
    "for test_model in [LinearRegression, SVR, KNeighborsRegressor, RandomForestRegressor, GradientBoostingRegressor, MLPRegressor]:\n",
    "  model_name = test_model.__name__\n",
    "\n",
    "  clf = RandomizedSearchCV(\n",
    "      all_params[model_name][0],\n",
    "      param_distributions=all_params[model_name][1],\n",
    "      n_iter=10,\n",
    "      cv=5,\n",
    "      n_jobs=-1,\n",
    "      scoring='neg_mean_absolute_error',\n",
    "      random_state=30\n",
    "  )\n",
    "\n",
    "  clf.fit(X_train, y_train)\n",
    "\n",
    "  results.append({\n",
    "        'model': model_name,\n",
    "        'best_params': clf.best_params_,\n",
    "        'best_score': clf.best_score_,\n",
    "        'best_estimator': clf.best_estimator_\n",
    "    })\n",
    "  print(results[-1])\n"
   ]
  },
  {
   "cell_type": "code",
   "execution_count": null,
   "metadata": {
    "colab": {
     "base_uri": "https://localhost:8080/",
     "height": 238
    },
    "id": "7X0ajPgb41DN",
    "outputId": "ffa76763-3cab-4e67-f69c-c26ec8c6d8b4"
   },
   "outputs": [],
   "source": [
    "results_df = pd.DataFrame(results)\n",
    "results_df"
   ]
  },
  {
   "cell_type": "code",
   "execution_count": null,
   "metadata": {
    "colab": {
     "base_uri": "https://localhost:8080/",
     "height": 607
    },
    "id": "Gl74QfaG6sIu",
    "outputId": "fa19db4a-25af-4398-99b7-5edc69f0e79e"
   },
   "outputs": [],
   "source": [
    "results_df['MAE'] = -results_df['best_score']\n",
    "\n",
    "plt.figure(figsize=(10, 6))\n",
    "bars = plt.bar(results_df['model'], results_df['MAE'], color='skyblue')\n",
    "\n",
    "for bar in bars:\n",
    "    height = bar.get_height()\n",
    "    plt.text(bar.get_x() + bar.get_width()/2., height,\n",
    "             f'{height:.3f}',\n",
    "             ha='center', va='bottom')\n",
    "\n",
    "plt.title('Model Comparison (MAE)')\n",
    "plt.xlabel('Models')\n",
    "plt.ylabel('Mean Absolute Error (lower is better)')\n",
    "plt.xticks(rotation=45)\n",
    "plt.grid(axis='y', linestyle='--', alpha=0.7)\n",
    "plt.tight_layout()\n",
    "plt.show()"
   ]
  },
  {
   "cell_type": "code",
   "execution_count": null,
   "metadata": {
    "id": "V7iOaWPe671f"
   },
   "outputs": [],
   "source": [
    "from sklearn.metrics import mean_absolute_error\n",
    "\n",
    "results_for_tests = []\n",
    "for clf in results_df['best_estimator']:\n",
    "  y_pred = clf.predict(X_test)\n",
    "  mae = mean_absolute_error(y_pred, y_test)\n",
    "  results_for_tests.append({\n",
    "      'model': clf.__class__.__name__,\n",
    "      'MAE': mae,\n",
    "      })"
   ]
  },
  {
   "cell_type": "code",
   "execution_count": null,
   "metadata": {
    "id": "LbdkpII574Ng"
   },
   "outputs": [],
   "source": [
    "results_for_tests = pd.DataFrame(results_for_tests)"
   ]
  },
  {
   "cell_type": "code",
   "execution_count": null,
   "metadata": {
    "colab": {
     "base_uri": "https://localhost:8080/",
     "height": 607
    },
    "id": "Q5zeYDgu7_WE",
    "outputId": "d29bd4f5-bb79-4c07-a7b6-e264857b4224"
   },
   "outputs": [],
   "source": [
    "plt.figure(figsize=(10, 6))\n",
    "bars = plt.bar(results_for_tests['model'], results_for_tests['MAE'], color='skyblue')\n",
    "\n",
    "for bar in bars:\n",
    "    height = bar.get_height()\n",
    "    plt.text(bar.get_x() + bar.get_width()/2., height,\n",
    "             f'{height:.3f}',\n",
    "             ha='center', va='bottom')\n",
    "\n",
    "plt.title('Model Comparison (MAE)')\n",
    "plt.xlabel('Models')\n",
    "plt.ylabel('Mean Absolute Error (lower is better)')\n",
    "plt.xticks(rotation=45)\n",
    "plt.grid(axis='y', linestyle='--', alpha=0.7)\n",
    "plt.tight_layout()\n",
    "plt.show()"
   ]
  },
  {
   "cell_type": "markdown",
   "metadata": {
    "id": "gAhd72rn93Ds"
   },
   "source": [
    "На тестовых и на обучающих данных лучше всего себя показал градиентный бустинг, его использовать и будем.\n",
    "Также на обучающих данных очень хорошо себя показал KNN, но на тестовых данных прогноз сильно отличается"
   ]
  },
  {
   "cell_type": "markdown",
   "metadata": {
    "id": "VwXL8vuI-FnS"
   },
   "source": [
    "# Теперь на основе модели GradientBoostingRegressor сделаем прогноз для студентов"
   ]
  },
  {
   "cell_type": "code",
   "execution_count": null,
   "metadata": {
    "colab": {
     "base_uri": "https://localhost:8080/",
     "height": 363
    },
    "id": "yReDGCyU_PHv",
    "outputId": "c705ef2c-5b5d-4441-8399-fd90a376a503"
   },
   "outputs": [],
   "source": [
    "df_students['exp_in_num'] = 0\n",
    "df_students['Удаленная работа (код)'] = 0\n",
    "df_students.iloc[:, 1:13]"
   ]
  },
  {
   "cell_type": "code",
   "execution_count": null,
   "metadata": {
    "colab": {
     "base_uri": "https://localhost:8080/"
    },
    "id": "eHpjMt2u-Ony",
    "outputId": "d3df72b5-deb7-4285-cb20-c6873a2a6343"
   },
   "outputs": [],
   "source": [
    "model = results_df[results_df['model'] == 'GradientBoostingRegressor']['best_estimator'].iloc[0]\n",
    "students_salary_pred = model.predict(pd.concat([\n",
    "    df_students.iloc[:, 1:13],\n",
    "    df_students.iloc[:, 19:21]\n",
    "], axis=1))\n",
    "students_salary_pred"
   ]
  },
  {
   "cell_type": "code",
   "execution_count": null,
   "metadata": {
    "colab": {
     "base_uri": "https://localhost:8080/"
    },
    "id": "r6-7pGYNA2kl",
    "outputId": "d59a9b53-15df-406a-8ed5-19ecedf2fea1"
   },
   "outputs": [],
   "source": [
    "students_salary_pred.mean()"
   ]
  },
  {
   "cell_type": "markdown",
   "metadata": {
    "id": "fLrEPQwKBBjI"
   },
   "source": [
    "Средняя зарплата студента при выпуске из ВУЗа Москвы должна составлять примерно 150к рублей"
   ]
  },
  {
   "cell_type": "markdown",
   "metadata": {
    "id": "2yGKSpFABIQl"
   },
   "source": [
    "## Рассмотрим теперь, то какие навыки более необходимы студентам"
   ]
  },
  {
   "cell_type": "code",
   "execution_count": null,
   "metadata": {
    "id": "6bU9lYEPA_gB"
   },
   "outputs": [],
   "source": [
    "student_skills = []\n",
    "skills_columns = df_students.columns[1:]\n",
    "for _, row in df_students.iterrows():\n",
    "    skills = []\n",
    "    for skill in skills_columns:\n",
    "        if row[skill] == 1:\n",
    "            skills.append(skill)\n",
    "    student_skills.append({\n",
    "        \"ВУЗ\": row[\"НАЗВАНИЕ ВУЗОВ\"],\n",
    "        \"Навыки\": skills\n",
    "    })\n",
    "\n",
    "skills_columns = df.columns[6:18]\n",
    "df_skills = []\n",
    "for _, row in df.iterrows():\n",
    "    skills = []\n",
    "    for skill in skills_columns:\n",
    "        if row[skill] == 1:\n",
    "            skills.append(skill)\n",
    "    df_skills.append({\n",
    "        \"Вакансия\": row[\"Должность\"],\n",
    "        \"Зарплата\": row[\"Зарплата\"],\n",
    "        \"Навыки\": skills\n",
    "    })"
   ]
  },
  {
   "cell_type": "code",
   "execution_count": null,
   "metadata": {
    "colab": {
     "base_uri": "https://localhost:8080/"
    },
    "id": "DVRNGl_JCT1i",
    "outputId": "e13716ff-2be5-4de8-e964-48e2bae59ed3"
   },
   "outputs": [],
   "source": [
    "def predict_jobs_and_salary(vacancies, student_skills, threshold=0.7):\n",
    "    matched_jobs = []\n",
    "    for job in vacancies:\n",
    "        required_skills = job[\"Навыки\"]\n",
    "        common_skills = set(required_skills) & set(student_skills)\n",
    "        if len(required_skills) == 0:\n",
    "          continue\n",
    "        score = len(common_skills) / len(required_skills)\n",
    "        if score >= threshold:\n",
    "            matched_jobs.append(job)\n",
    "\n",
    "    if not matched_jobs:\n",
    "        return 0, 0  # нет подходящих вакансий\n",
    "\n",
    "    avg_salary = sum(job[\"Зарплата\"] for job in matched_jobs) / len(matched_jobs)\n",
    "    num_jobs = len(matched_jobs)\n",
    "\n",
    "    return avg_salary, num_jobs\n",
    "\n",
    "for student in student_skills:\n",
    "  print(predict_jobs_and_salary(df_skills, student['Навыки']))"
   ]
  },
  {
   "cell_type": "code",
   "execution_count": null,
   "metadata": {
    "colab": {
     "base_uri": "https://localhost:8080/"
    },
    "id": "0yKFlHWNDHqv",
    "outputId": "37739a54-468b-4436-e056-6cbc875315b6"
   },
   "outputs": [],
   "source": [
    "from collections import defaultdict\n",
    "\n",
    "# Предположим, что student_skills - это список словарей вида:\n",
    "# [{\"ВУЗ\": \"МФТИ\", \"Навыки\": [\"PYTHON\", \"SQL\", ...]}, ...]\n",
    "# А df_skills - это список словарей вида:\n",
    "# [{\"Вакансия\": \"Data Scientist\", \"Навыки\": [\"PYTHON\", \"ML\"], \"salary\": 150000}, ...]\n",
    "\n",
    "deficit_counts = defaultdict(int)\n",
    "\n",
    "# Проверяем и обрабатываем только вакансии с указанными навыками\n",
    "for job in df_skills:\n",
    "    if not job.get(\"Навыки\"):  # Пропускаем вакансии без указания навыков\n",
    "        continue\n",
    "\n",
    "    required_skills = set(job[\"Навыки\"])\n",
    "\n",
    "    for student in student_skills:\n",
    "        # Проверяем, что student - это словарь с ключом \"Навыки\"\n",
    "        if not isinstance(student, dict) or \"Навыки\" not in student:\n",
    "            continue\n",
    "\n",
    "        student_skills_set = set(student[\"Навыки\"])\n",
    "        missing_skills = required_skills - student_skills_set\n",
    "\n",
    "        for skill in missing_skills:\n",
    "            deficit_counts[skill] += 1\n",
    "\n",
    "# Сортируем по убыванию частоты\n",
    "sorted_deficit = sorted(deficit_counts.items(), key=lambda x: -x[1])\n",
    "\n",
    "print(\"Топ навыков, которых чаще всего не хватает:\")\n",
    "for skill, count in sorted_deficit[:10]:  # Выводим топ-10\n",
    "    print(f\"{skill}: {count} раз\")"
   ]
  },
  {
   "cell_type": "code",
   "execution_count": null,
   "metadata": {
    "colab": {
     "base_uri": "https://localhost:8080/",
     "height": 472
    },
    "id": "05SvMLhuEHBR",
    "outputId": "247e18c5-2d33-4dc1-fca4-a4ae9228fd9f"
   },
   "outputs": [],
   "source": [
    "skills, counts = zip(*sorted_deficit[:10])  # Берем топ-10\n",
    "\n",
    "plt.barh(skills, counts, color='red')\n",
    "plt.title(\"Топ-10 навыков, которых не хватает студентам\")\n",
    "plt.xlabel(\"Количество вакансий с дефицитом\")\n",
    "plt.show()"
   ]
  },
  {
   "cell_type": "code",
   "execution_count": null,
   "metadata": {},
   "outputs": [],
   "source": [
    "vacancies = pd.read_csv('DataScienceData.csv')\n",
    "universities = pd.read_csv('ВУЗЫ.csv')\n",
    "\n",
    "vacancy_skills = vacancies.iloc[:, 6:]\n",
    "vacancy_counts = vacancy_skills.sum().sort_values()\n",
    "\n",
    "university_skills = universities.iloc[:, 1:]\n",
    "university_counts = university_skills.sum().sort_values()\n",
    "\n",
    "top_skills = vacancy_counts.head(10).index\n",
    "\n",
    "comparison = pd.DataFrame({\n",
    "    'Вакансии': vacancy_counts[top_skills],\n",
    "    'Вузы': university_counts[top_skills]\n",
    "})\n",
    "\n",
    "comparison['Вакансии'] = (comparison['Вакансии'] / len(vacancies)) * 100\n",
    "comparison['Вузы'] = (comparison['Вузы'] / len(universities)) * 100\n",
    "\n",
    "plt.figure(figsize=(12, 6))\n",
    "comparison.plot(kind='bar')\n",
    "plt.title('Топ-10 навыков: сравнение вакансий и вузов (%)')\n",
    "plt.ylabel('Процент упоминания')\n",
    "plt.xticks(rotation=45)\n",
    "plt.grid(axis='y', linestyle='--', alpha=0.3)\n",
    "plt.show()"
   ]
  },
  {
   "cell_type": "code",
   "execution_count": null,
   "metadata": {},
   "outputs": [],
   "source": [
    "skills_for_radar = ['PYTHON', 'SQL', 'DOCKER', 'AWS', 'MATH', 'DATA_SCIENCE_LIB']\n",
    "\n",
    "vacancy_percent = (vacancy_skills[skills_for_radar].sum() / len(vacancies)) * 100\n",
    "university_percent = (university_skills[skills_for_radar].sum() / len(universities)) * 100\n",
    "\n",
    "angles = np.linspace(0, 2 * np.pi, len(skills_for_radar), endpoint=False).tolist()\n",
    "angles += angles[:1] \n",
    "\n",
    "fig, ax = plt.subplots(figsize=(8, 8), subplot_kw={'polar': True})\n",
    "ax.plot(angles, vacancy_percent.tolist() + [vacancy_percent[0]], 'o-', label='Вакансии')\n",
    "ax.plot(angles, university_percent.tolist() + [university_percent[0]], 'o-', label='Вузы')\n",
    "ax.fill(angles, vacancy_percent.tolist() + [vacancy_percent[0]], alpha=0.1)\n",
    "ax.fill(angles, university_percent.tolist() + [university_percent[0]], alpha=0.1)\n",
    "ax.set_xticks(angles[:-1])\n",
    "ax.set_xticklabels(skills_for_radar)\n",
    "ax.set_title('Сравнение ключевых навыков', pad=25)\n",
    "ax.legend(loc='upper right')\n",
    "plt.show"
   ]
  },
  {
   "cell_type": "code",
   "execution_count": null,
   "metadata": {},
   "outputs": [],
   "source": [
    "gap = (university_skills.mean()-vacancy_skills.mean()) * 100  \n",
    "gap_sorted = gap.sort_values(ascending=True)  # Сортируем для наглядности  \n",
    "\n",
    "\n",
    "plt.figure(figsize=(12, 8))  \n",
    "colors = ['#51cf66' if x > 0 else '#ff6b6b' for x in gap_sorted] \n",
    "bars = plt.barh(gap_sorted.index, gap_sorted, color=colors, alpha=0.8)  \n",
    "\n",
    " \n",
    "plt.title('Отстование вузов', pad=25)  \n",
    "plt.xlabel('Разрыв (%)', fontsize=10)  \n",
    "plt.grid(axis='x', linestyle='--', alpha=0.4)  \n",
    " \n",
    "for bar in bars:  \n",
    "    width = bar.get_width()  \n",
    "    plt.text(width, bar.get_y() + bar.get_height()/2,  f'{width:.1f}%') \n",
    "\n",
    "plt.tight_layout()  \n",
    "plt.show()"
   ]
  },
  {
   "cell_type": "code",
   "execution_count": null,
   "metadata": {
    "id": "69OBv1q2FNIV"
   },
   "outputs": [],
   "source": [
    "!git add ."
   ]
  },
  {
   "cell_type": "code",
   "execution_count": null,
   "metadata": {
    "colab": {
     "base_uri": "https://localhost:8080/"
    },
    "id": "Q4FK614dFUOq",
    "outputId": "eeea1808-cb98-430f-e789-11d372a3b8c0"
   },
   "outputs": [],
   "source": [
    "!git commit -m \"Fully created google colab file\""
   ]
  },
  {
   "cell_type": "code",
   "execution_count": null,
   "metadata": {
    "colab": {
     "base_uri": "https://localhost:8080/"
    },
    "id": "9oDDaCTXFpAE",
    "outputId": "94fa92fc-1f46-4c4a-c9ee-9bb61de8de6d"
   },
   "outputs": [],
   "source": [
    "!git push origin main"
   ]
  },
  {
   "cell_type": "code",
   "execution_count": null,
   "metadata": {
    "id": "lmjfrVqbGEIN"
   },
   "outputs": [],
   "source": []
  }
 ],
 "metadata": {
  "colab": {
   "gpuType": "T4",
   "provenance": []
  },
  "kernelspec": {
   "display_name": "Python 3 (ipykernel)",
   "language": "python",
   "name": "python3"
  },
  "language_info": {
   "codemirror_mode": {
    "name": "ipython",
    "version": 3
   },
   "file_extension": ".py",
   "mimetype": "text/x-python",
   "name": "python",
   "nbconvert_exporter": "python",
   "pygments_lexer": "ipython3",
   "version": "3.12.4"
  }
 },
 "nbformat": 4,
 "nbformat_minor": 4
}
